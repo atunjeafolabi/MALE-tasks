{
 "cells": [
  {
   "cell_type": "markdown",
   "id": "5abc4177",
   "metadata": {},
   "source": [
    "# Machine Learning - Data Analysis Introduction"
   ]
  },
  {
   "cell_type": "markdown",
   "id": "b9612303",
   "metadata": {},
   "source": [
    "# Part 1"
   ]
  },
  {
   "cell_type": "markdown",
   "id": "bbccfbb6",
   "metadata": {},
   "source": [
    "## Get your Python environment running\n",
    "\n",
    "\n",
    "Familiarize yourself with the most important packages in the field of machine learning. Some others may follow, however, those are the ones you need every time: \n",
    "- numpy\n",
    "- pandas\n",
    "- matplotlib\n",
    "- scikit-learn\n",
    "\n",
    "Make sure you can import all of them in your notebook."
   ]
  },
  {
   "cell_type": "markdown",
   "id": "fe372569",
   "metadata": {},
   "source": [
    "## Warm-up Exercise\n",
    "- Write a function to sample a number N of datapoints in the p-dimensional union cube $[0;1]^p$ and sort the values according to the squared distance to the origin divided by the squared distance of the edge point most far away from the origin. \n",
    "\n",
    "- Execute the function for N=10000 and $p\\in [1,2,...20]$. \n",
    "- Plot the minimum distance over p."
   ]
  },
  {
   "cell_type": "code",
   "id": "f54361eb",
   "metadata": {},
   "source": "# TODO\n",
   "outputs": [],
   "execution_count": null
  },
  {
   "cell_type": "markdown",
   "id": "efd3fe11",
   "metadata": {},
   "source": [
    "## Data Processing\n",
    "\n",
    "The most useful Python library for data science is pandas: https://pandas.pydata.org/\n",
    "\n",
    "It provides two basic data structures, DataFrames and DataSeries.\n",
    "- DataSeries: one-dimensional data array of any type (one data column), labeled (column header)\n",
    "- DataFrame: two-dimensional data structure, multi-columns with headers (column titles)\n",
    "\n",
    "Pandas provides an easy way of working with data with state-of-the art machine learning. \n",
    "We typically use it for \n",
    "- descriptive statistics of the data \n",
    "- in connection with plot libraries like matplotlib or seaborn for data visualization (while pandas has some integrated visualization capabilitites)\n",
    "- data transformation \n",
    "- combination, split of datasets \n",
    "- ...\n",
    "\n",
    "\n",
    "__We will need these commands and skills throughout the lecture, so make sure that you familiarize with the pandas library.__\n",
    "\n",
    "To get fluent with pandas, carry out the following __exercises__. \n",
    "- Use the documentation and API reference of pandas to learn the basics about these functions.\n",
    "- These exercises guide you through a set of standard data science. \n",
    "\n"
   ]
  },
  {
   "cell_type": "markdown",
   "id": "dcb7e37c",
   "metadata": {},
   "source": [
    "# Data loading and easy transformations\n",
    "Load the following two datasets into a dataframe \n",
    "- iris.csv to dataframe named iris_df\n",
    "- decision-tree.txt to dataframe named tree_df\n"
   ]
  },
  {
   "cell_type": "code",
   "id": "bacddc3c",
   "metadata": {},
   "source": [
    "import pandas as pd\n",
    "\n",
    "iris_df = pd.read_csv(\"iris.csv\")\n",
    "iris_df.head()\n"
   ],
   "outputs": [],
   "execution_count": null
  },
  {
   "cell_type": "code",
   "id": "e33da47b",
   "metadata": {},
   "source": [
    "tree_df = pd.read_csv(\"decision-tree.txt\")\n",
    "# tree_df.head()"
   ],
   "outputs": [],
   "execution_count": null
  },
  {
   "cell_type": "markdown",
   "id": "6c5f216c",
   "metadata": {},
   "source": [
    "For iris_df do the following\n",
    "- Look at the dataframe.\n",
    "- Get the column names.\n",
    "- Rename the columns such that all names are written in UPPERCASE.\n",
    "- Get a simple statistic for the data. \n",
    "- Generate a one-hot encoding for the class values"
   ]
  },
  {
   "metadata": {},
   "cell_type": "code",
   "source": [
    "# Look at the dataframe\n",
    "iris_df"
   ],
   "id": "49d2db56",
   "outputs": [],
   "execution_count": null
  },
  {
   "metadata": {},
   "cell_type": "code",
   "source": [
    "# Get column names\n",
    "iris_df.columns.values"
   ],
   "id": "3924000e24e1ba36",
   "outputs": [],
   "execution_count": null
  },
  {
   "metadata": {},
   "cell_type": "code",
   "source": [
    "# Rename the columns such that all names are written in UPPERCASE.\n",
    "iris_df.columns.str.upper()\n"
   ],
   "id": "70dbb0e55d2d7feb",
   "outputs": [],
   "execution_count": null
  },
  {
   "metadata": {},
   "cell_type": "code",
   "source": [
    "# Get a simple statistic for the data.\n",
    "iris_df.describe(include='all')"
   ],
   "id": "526126ce9cb7a71d",
   "outputs": [],
   "execution_count": null
  },
  {
   "metadata": {},
   "cell_type": "code",
   "source": [
    "# Generate a one-hot encoding for the class values\n",
    "# To get 1/0 instead of True/False, add parameter: dtype='int'\n",
    "pd.get_dummies(iris_df, columns=['class'])"
   ],
   "id": "1e68801128048da3",
   "outputs": [],
   "execution_count": null
  },
  {
   "cell_type": "markdown",
   "id": "c41e27ff",
   "metadata": {},
   "source": [
    "## Data joins \n",
    "\n",
    "Load the individual datasets iris1, iris2, iris3, iris4, iris5. Join them appropriately into one dataframe taking into account column names and indices.\n",
    "\n",
    "Check that your joined dataframe corresponds to iris_df."
   ]
  },
  {
   "cell_type": "code",
   "id": "67708626",
   "metadata": {},
   "source": [
    "iris_df1 = pd.read_csv(\"iris1.csv\")\n",
    "iris_df2 = pd.read_csv(\"iris2.csv\")\n",
    "iris_df3 = pd.read_csv(\"iris3.csv\")\n",
    "iris_df4 = pd.read_csv(\"iris4.csv\")\n",
    "iris_df5 = pd.read_csv(\"iris5.csv\")\n",
    "\n",
    "# TODO: Merge all the five dataframes above into one dataframe\n",
    "joined_iris_df = pd.concat([iris_df1, iris_df2, iris_df3, iris_df4, iris_df5])\n",
    "\n",
    "# TODO: Confirm that joined_iris_df = iris_df\n",
    "## joined_iris_df.equals(iris_df)\n"
   ],
   "outputs": [],
   "execution_count": null
  },
  {
   "cell_type": "code",
   "id": "90335508",
   "metadata": {},
   "source": [],
   "outputs": [],
   "execution_count": null
  },
  {
   "cell_type": "markdown",
   "id": "80608c04",
   "metadata": {},
   "source": [
    "# Part 2"
   ]
  },
  {
   "cell_type": "markdown",
   "id": "f7708681",
   "metadata": {},
   "source": [
    "## Elementary data analysis and visualization of the Iris dataset\n",
    "\n",
    "How is each of the quanties sepal / petal length / width distributed?\n",
    "- Compute statistical quantities like mean, standard deviation.\n",
    "- Are there any values far from the average?\n",
    "- Visualize the data distribution by appropriate histogram plots. \n",
    "    - Use matplotlib.pyplot.hist()\n",
    "    - Familiarize with the hist() method and its parameters\n",
    "    - Try at least the following two strategies for the bins parameter: define appropriate binning yourself and at least one pre-defined strategy (e.g. 'auto'). \n",
    "    - See the documentation of matplotlib to understand how hist() works. \n",
    "\n"
   ]
  },
  {
   "metadata": {},
   "cell_type": "code",
   "source": "# TODO: How is each of the quantities sepal / petal length / width distributed?\n",
   "id": "bd3cfd70659ab116",
   "outputs": [],
   "execution_count": null
  },
  {
   "metadata": {},
   "cell_type": "code",
   "source": [
    "# Compute mean, 2d.p\n",
    "print(f\"Sepal Length: {iris_df[\"sepal length\"].mean(): 0.2f}\")\n",
    "print(f\"Petal Length: {iris_df[\"petal length\"].mean(): 0.2f}\")\n",
    "print(f\"Sepal Width: {iris_df[\"sepal width\"].mean(): 0.2f}\")"
   ],
   "id": "e4d040d1dfb209ab",
   "outputs": [],
   "execution_count": null
  },
  {
   "metadata": {},
   "cell_type": "code",
   "source": [
    "# Compute standard deviation, 2d.p\n",
    "print(f\"Sepal Length: {iris_df[\"sepal length\"].std(): 0.2f}\")\n",
    "print(f\"Petal Length: {iris_df[\"petal length\"].std(): 0.2f}\")\n",
    "print(f\"Sepal Width: {iris_df[\"sepal width\"].std(): 0.2f}\")"
   ],
   "id": "ad4c83ca332d7004",
   "outputs": [],
   "execution_count": null
  },
  {
   "metadata": {},
   "cell_type": "code",
   "source": "# TODO: Are there any values far from the average?\n",
   "id": "dd2ff91f9a9ea4d7",
   "outputs": [],
   "execution_count": null
  },
  {
   "metadata": {},
   "cell_type": "code",
   "source": "import matplotlib.pyplot as plt",
   "id": "95fc32c51baa36ed",
   "outputs": [],
   "execution_count": null
  },
  {
   "cell_type": "code",
   "id": "eb423cbd",
   "metadata": {
    "ExecuteTime": {
     "end_time": "2025-10-17T15:26:57.383763Z",
     "start_time": "2025-10-17T15:26:57.313438Z"
    }
   },
   "source": [
    "# Draw Histogram for sepal length\n",
    "iris_df[\"sepal length\"].hist()\n",
    "plt.xlabel(\"Sepal Length\")\n",
    "plt.ylabel(\"Frequency\")\n",
    "plt.title(\"Distribution of Sepal Length\")\n"
   ],
   "outputs": [
    {
     "data": {
      "text/plain": [
       "Text(0.5, 1.0, 'Distribution of Sepal Length')"
      ]
     },
     "execution_count": 53,
     "metadata": {},
     "output_type": "execute_result"
    },
    {
     "data": {
      "text/plain": [
       "<Figure size 640x480 with 1 Axes>"
      ],
      "image/png": "[encoded data removed]"
     },
     "metadata": {},
     "output_type": "display_data"
    }
   ],
   "execution_count": 53
  },
  {
   "metadata": {
    "ExecuteTime": {
     "end_time": "2025-10-17T15:35:27.314240Z",
     "start_time": "2025-10-17T15:35:27.244633Z"
    }
   },
   "cell_type": "code",
   "source": [
    "# Draw Histogram for petal length\n",
    "iris_df[\"petal length\"].hist()\n",
    "plt.xlabel(\"Petal Length\")\n",
    "plt.ylabel(\"Frequency\")\n",
    "plt.title(\"Distribution of Petal Length\")\n"
   ],
   "id": "38d073a8af89be0e",
   "outputs": [
    {
     "data": {
      "text/plain": [
       "Text(0.5, 1.0, 'Distribution of Petal Length')"
      ]
     },
     "execution_count": 61,
     "metadata": {},
     "output_type": "execute_result"
    },
    {
     "data": {
      "text/plain": [
       "<Figure size 640x480 with 1 Axes>"
      ],
      "image/png": "[encoded data removed]"
     },
     "metadata": {},
     "output_type": "display_data"
    }
   ],
   "execution_count": 61
  },
  {
   "metadata": {},
   "cell_type": "code",
   "source": [
    "# Draw Histogram for sepal width\n",
    "iris_df[\"sepal width\"].hist()\n",
    "plt.xlabel(\"Sepal Width\")\n",
    "plt.ylabel(\"Frequency\")\n",
    "plt.title(\"Distribution of Sepal Width\")\n"
   ],
   "id": "3d6802a4a7ee3dce",
   "outputs": [],
   "execution_count": null
  },
  {
   "metadata": {},
   "cell_type": "code",
   "source": "# Try at least the following two strategies for the bins parameter: define appropriate binning yourself and at least one pre-defined strategy (e.g. 'auto').\n",
   "id": "aefa4b4983c34bd7",
   "outputs": [],
   "execution_count": null
  },
  {
   "metadata": {
    "ExecuteTime": {
     "end_time": "2025-10-17T15:31:52.396828Z",
     "start_time": "2025-10-17T15:31:52.330264Z"
    }
   },
   "cell_type": "code",
   "source": [
    "# With bins parameter given, draw Histogram for petal length\n",
    "iris_df[\"petal length\"].hist(bins=7)\n",
    "plt.xlabel(\"Petal Length\")\n",
    "plt.ylabel(\"Frequency\")\n",
    "plt.title(\"Distribution of Petal Length\")\n"
   ],
   "id": "25b05ed44803a669",
   "outputs": [
    {
     "data": {
      "text/plain": [
       "Text(0.5, 1.0, 'Distribution of Petal Length')"
      ]
     },
     "execution_count": 56,
     "metadata": {},
     "output_type": "execute_result"
    },
    {
     "data": {
      "text/plain": [
       "<Figure size 640x480 with 1 Axes>"
      ],
      "image/png": "[encoded data removed]"
     },
     "metadata": {},
     "output_type": "display_data"
    }
   ],
   "execution_count": 56
  },
  {
   "metadata": {
    "ExecuteTime": {
     "end_time": "2025-10-17T15:36:16.267881Z",
     "start_time": "2025-10-17T15:36:16.200841Z"
    }
   },
   "cell_type": "code",
   "source": [
    "# Draw Histogram for petal length with parameter bins=\"auto\"\n",
    "iris_df[\"petal length\"].hist(bins=\"auto\")\n",
    "plt.xlabel(\"Petal Length\")\n",
    "plt.ylabel(\"Frequency\")\n",
    "plt.title(\"Distribution of Petal Length\")\n"
   ],
   "id": "866875aff83abb6d",
   "outputs": [
    {
     "data": {
      "text/plain": [
       "Text(0.5, 1.0, 'Distribution of Petal Length')"
      ]
     },
     "execution_count": 63,
     "metadata": {},
     "output_type": "execute_result"
    },
    {
     "data": {
      "text/plain": [
       "<Figure size 640x480 with 1 Axes>"
      ],
      "image/png": "[encoded data removed]"
     },
     "metadata": {},
     "output_type": "display_data"
    }
   ],
   "execution_count": 63
  },
  {
   "metadata": {},
   "cell_type": "code",
   "outputs": [],
   "execution_count": null,
   "source": "",
   "id": "b6342dff87b26f0d"
  }
 ],
 "metadata": {
  "kernelspec": {
   "display_name": "Python 3 (ipykernel)",
   "language": "python",
   "name": "python3"
  },
  "language_info": {
   "codemirror_mode": {
    "name": "ipython",
    "version": 3
   },
   "file_extension": ".py",
   "mimetype": "text/x-python",
   "name": "python",
   "nbconvert_exporter": "python",
   "pygments_lexer": "ipython3",
   "version": "3.9.6"
  }
 },
 "nbformat": 4,
 "nbformat_minor": 5
}
